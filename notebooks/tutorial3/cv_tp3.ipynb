{
 "cells": [
  {
   "cell_type": "markdown",
   "metadata": {},
   "source": [
    "# Computer Vision - Tutorial 3"
   ]
  },
  {
   "cell_type": "markdown",
   "metadata": {},
   "source": [
    "In this practical session, we will use the `opencv` library to perform thresholding, filtering, mathematical morphology and image segmentation."
   ]
  },
  {
   "cell_type": "code",
   "execution_count": null,
   "metadata": {},
   "outputs": [],
   "source": [
    "%matplotlib inline\n",
    "\n",
    "import cv2\n",
    "import numpy as np\n",
    "import matplotlib.pyplot as plt\n",
    "import matplotlib.cm as cm\n",
    "from ipywidgets import interact\n",
    "\n",
    "plt.rcParams['figure.figsize'] = [12, 8]\n",
    "\n",
    "from matplotlib.colors import LinearSegmentedColormap\n",
    "\n",
    "def getRandomColorMap(num_colors, bg_color=1):\n",
    "    colors = np.random.rand(num_colors, 3) * 0.75\n",
    "    colors[0, :] = bg_color\n",
    "    colors = tuple(map(tuple, colors))\n",
    "\n",
    "    labelColorMap = LinearSegmentedColormap.from_list('labelColorMap', colors, N=num_colors)\n",
    "\n",
    "    return labelColorMap\n",
    "\n",
    "def multiplot(lines, rows, images, cmap, title, vmin=None, vmax=None):\n",
    "    plt.figure(figsize=(20,10))\n",
    "    for i in np.arange(lines*rows):\n",
    "        \n",
    "        plt.subplot(lines, rows, i+1)\n",
    "        plt.imshow(images[i], cmap=cmap[i], vmax=vmax)\n",
    "        plt.title(title[i])\n",
    "        plt.xticks([])\n",
    "        plt.yticks([])\n",
    "        \n",
    "    plt.show()"
   ]
  },
  {
   "cell_type": "markdown",
   "metadata": {},
   "source": [
    "## 1. Thresholding"
   ]
  },
  {
   "cell_type": "markdown",
   "metadata": {},
   "source": [
    "#### Compute and display the histogram of a grayscale image"
   ]
  },
  {
   "cell_type": "code",
   "execution_count": null,
   "metadata": {},
   "outputs": [],
   "source": []
  },
  {
   "cell_type": "markdown",
   "metadata": {},
   "source": [
    "#### Basic thresholding with python"
   ]
  },
  {
   "cell_type": "code",
   "execution_count": null,
   "metadata": {},
   "outputs": [],
   "source": []
  },
  {
   "cell_type": "markdown",
   "metadata": {},
   "source": [
    "#### Thresholding with OpenCV\n",
    "Determine the v1 and v2 values for the following threshold types:  \n",
    "cv.THRESH_BINARY\n",
    "$$\\text{th_image}(x,y)=\\left\\{\n",
    "                \\begin{array}{ll}\n",
    "                  \\texttt{v1} & \\text{if img$(x,y)$ > thresh}\\\\\n",
    "                  \\texttt{v2} & \\text{otherwise}\n",
    "                \\end{array}\n",
    "              \\right.\n",
    "$$\n",
    "\n",
    "cv.THRESH_BINARY_INV\n",
    "$$\\text{th_image}(x,y)=\\left\\{\n",
    "                \\begin{array}{ll}\n",
    "                  \\texttt{v1} & \\text{if img$(x,y)$ > thresh}\\\\\n",
    "                  \\texttt{v2} & \\text{otherwise}\n",
    "                \\end{array}\n",
    "              \\right.\n",
    "$$\n",
    "\n",
    "cv.THRESH_TRUNC\n",
    "$$\\text{th_image}(x,y)=\\left\\{\n",
    "                \\begin{array}{ll}\n",
    "                  \\texttt{v1} & \\text{if img$(x,y)$ > thresh}\\\\\n",
    "                  \\texttt{v2} & \\text{otherwise}\n",
    "                \\end{array}\n",
    "              \\right.\n",
    "$$\n",
    "\n",
    "cv.THRESH_TO_ZERO\n",
    "$$\\text{th_image}(x,y)=\\left\\{\n",
    "                \\begin{array}{ll}\n",
    "                  \\texttt{v1} & \\text{if img$(x,y)$ > thresh}\\\\\n",
    "                  \\texttt{v2} & \\text{otherwise}\n",
    "                \\end{array}\n",
    "              \\right.\n",
    "$$\n",
    "\n",
    "cv.THRESH_TO_ZERO_INV\n",
    "$$\\text{th_image}(x,y)=\\left\\{\n",
    "                \\begin{array}{ll}\n",
    "                  \\texttt{v1} & \\text{if img$(x,y)$ > thresh}\\\\\n",
    "                  \\texttt{v2} & \\text{otherwise}\n",
    "                \\end{array}\n",
    "              \\right.\n",
    "$$"
   ]
  },
  {
   "cell_type": "code",
   "execution_count": null,
   "metadata": {},
   "outputs": [],
   "source": []
  },
  {
   "cell_type": "markdown",
   "metadata": {},
   "source": [
    "#### Otsu's thresholding\n",
    "In the previous examples, we had to chose the threshold value. We can use Otsu's algorithm to determine it."
   ]
  },
  {
   "cell_type": "code",
   "execution_count": null,
   "metadata": {},
   "outputs": [],
   "source": []
  },
  {
   "cell_type": "markdown",
   "metadata": {},
   "source": [
    "#### Otsu's algorithm by parts\n",
    "You can fine-tune the result by applying this algorithm on the different parts of the image."
   ]
  },
  {
   "cell_type": "code",
   "execution_count": null,
   "metadata": {},
   "outputs": [],
   "source": []
  },
  {
   "cell_type": "markdown",
   "metadata": {},
   "source": [
    "## 2. Filtering"
   ]
  },
  {
   "cell_type": "markdown",
   "metadata": {},
   "source": [
    "#### Gaussian noise"
   ]
  },
  {
   "cell_type": "code",
   "execution_count": null,
   "metadata": {},
   "outputs": [],
   "source": []
  },
  {
   "cell_type": "markdown",
   "metadata": {},
   "source": [
    "#### Uniform, Gaussian and bilateral filtering"
   ]
  },
  {
   "cell_type": "code",
   "execution_count": null,
   "metadata": {},
   "outputs": [],
   "source": []
  },
  {
   "cell_type": "markdown",
   "metadata": {},
   "source": [
    "#### Salt and pepper noise"
   ]
  },
  {
   "cell_type": "code",
   "execution_count": null,
   "metadata": {},
   "outputs": [],
   "source": []
  },
  {
   "cell_type": "markdown",
   "metadata": {},
   "source": [
    "#### Median filtering"
   ]
  },
  {
   "cell_type": "code",
   "execution_count": null,
   "metadata": {},
   "outputs": [],
   "source": []
  },
  {
   "cell_type": "markdown",
   "metadata": {},
   "source": [
    "## 3. Mathematical morphology"
   ]
  },
  {
   "cell_type": "markdown",
   "metadata": {},
   "source": [
    "#### Non uniform lightning"
   ]
  },
  {
   "cell_type": "code",
   "execution_count": null,
   "metadata": {},
   "outputs": [],
   "source": [
    "def non_uniform_lightning_like(img, weight):\n",
    "    width = img.shape[1]\n",
    "    height = img.shape[0]\n",
    "    \n",
    "    steps_y = np.arange( start=0.0, stop=1.0, step=1.0/height)\n",
    "    light_gradient_y = np.cos( ( 2.0 * ( steps_y * steps_y - steps_y) + 1.0)* np.pi)[:,np.newaxis]\n",
    "\n",
    "    steps_x = np.arange( start=0.0, stop=1.0, step=1.0/width)\n",
    "    light_gradient_x = np.cos( steps_x * np.pi)[np.newaxis,:]\n",
    "\n",
    "    return ( weight * light_gradient_y * light_gradient_x)\n",
    "\n",
    "nul = non_uniform_lightning_like(rice, 50)\n",
    "rice_nul = np.clip(rice + nul, 0, 255).astype(np.uint8)\n",
    "\n",
    "multiplot(1, 3,\n",
    "         (rice, nul, rice_nul),\n",
    "         (cm.gray, cm.gray, cm.gray),\n",
    "         ('Original Image', 'Non Uniform Lightning', 'Image + Non Uniform Lightning'))"
   ]
  },
  {
   "cell_type": "markdown",
   "metadata": {},
   "source": [
    "#### Erosion and dilation"
   ]
  },
  {
   "cell_type": "code",
   "execution_count": null,
   "metadata": {},
   "outputs": [],
   "source": []
  },
  {
   "cell_type": "markdown",
   "metadata": {},
   "source": [
    "#### Local adaptation"
   ]
  },
  {
   "cell_type": "code",
   "execution_count": null,
   "metadata": {},
   "outputs": [],
   "source": []
  },
  {
   "cell_type": "markdown",
   "metadata": {},
   "source": [
    "## 4. Segmentation"
   ]
  },
  {
   "cell_type": "markdown",
   "metadata": {},
   "source": [
    "#### Thresholding and connected components labelling"
   ]
  },
  {
   "cell_type": "code",
   "execution_count": null,
   "metadata": {},
   "outputs": [],
   "source": []
  },
  {
   "cell_type": "markdown",
   "metadata": {},
   "source": [
    "#### Preprocessing\n",
    "Closing -> Gaussian filtering -> Thresholding -> Connected components labelling"
   ]
  },
  {
   "cell_type": "code",
   "execution_count": null,
   "metadata": {},
   "outputs": [],
   "source": []
  },
  {
   "cell_type": "markdown",
   "metadata": {},
   "source": [
    "#### Blob feature"
   ]
  },
  {
   "cell_type": "code",
   "execution_count": null,
   "metadata": {},
   "outputs": [],
   "source": [
    "def draw_blob_bounding_boxes(img, conn_comp):\n",
    "    num_labels = conn_comp[0]\n",
    "    stats = conn_comp[2]\n",
    "    \n",
    "    img_bb = cv2.cvtColor( img, cv2.COLOR_GRAY2RGB)\n",
    "    for label in range( 1, num_labels):\n",
    "        topleft = tuple( stats[label,:2])\n",
    "        bottomright = tuple( stats[label,:2] + stats[label, 2:4])\n",
    "        cv2.rectangle( img_bb, topleft, bottomright, (255,0,0), 3)\n",
    "    \n",
    "    return img_bb\n",
    "\n",
    "\n",
    "def draw_blob_centroids(img, conn_comp):\n",
    "    num_labels = conn_comp[0]\n",
    "    centroids = conn_comp[3]\n",
    "    \n",
    "    img_ctr = cv2.cvtColor( img, cv2.COLOR_GRAY2RGB)\n",
    "    for label in range( 1, num_labels):\n",
    "        centroid = tuple( centroids[label,:].astype(int))\n",
    "        cv2.circle( img_ctr, centroid, 3, (255,0,0), thickness=3)\n",
    "    \n",
    "    return img_ctr"
   ]
  },
  {
   "cell_type": "markdown",
   "metadata": {},
   "source": [
    "#### Watershed"
   ]
  },
  {
   "cell_type": "code",
   "execution_count": null,
   "metadata": {},
   "outputs": [],
   "source": []
  },
  {
   "cell_type": "markdown",
   "metadata": {},
   "source": [
    "#### Find sure background"
   ]
  },
  {
   "cell_type": "code",
   "execution_count": null,
   "metadata": {},
   "outputs": [],
   "source": []
  },
  {
   "cell_type": "markdown",
   "metadata": {},
   "source": [
    "#### Find sure foreground"
   ]
  },
  {
   "cell_type": "code",
   "execution_count": null,
   "metadata": {},
   "outputs": [],
   "source": []
  },
  {
   "cell_type": "markdown",
   "metadata": {},
   "source": [
    "#### Find unknown region"
   ]
  },
  {
   "cell_type": "code",
   "execution_count": null,
   "metadata": {},
   "outputs": [],
   "source": []
  },
  {
   "cell_type": "markdown",
   "metadata": {},
   "source": [
    "#### Sure labelling of image"
   ]
  },
  {
   "cell_type": "code",
   "execution_count": null,
   "metadata": {},
   "outputs": [],
   "source": []
  },
  {
   "cell_type": "markdown",
   "metadata": {},
   "source": [
    "#### Final segmentation"
   ]
  },
  {
   "cell_type": "code",
   "execution_count": null,
   "metadata": {},
   "outputs": [],
   "source": []
  }
 ],
 "metadata": {
  "kernelspec": {
   "display_name": "Python 3",
   "language": "python",
   "name": "python3"
  },
  "language_info": {
   "codemirror_mode": {
    "name": "ipython",
    "version": 3
   },
   "file_extension": ".py",
   "mimetype": "text/x-python",
   "name": "python",
   "nbconvert_exporter": "python",
   "pygments_lexer": "ipython3",
   "version": "3.6.9"
  }
 },
 "nbformat": 4,
 "nbformat_minor": 2
}
