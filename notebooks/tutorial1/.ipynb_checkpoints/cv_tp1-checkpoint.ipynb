{
 "cells": [
  {
   "cell_type": "markdown",
   "metadata": {},
   "source": [
    "# Computer Vision - Input/Output + Basic operations"
   ]
  },
  {
   "cell_type": "markdown",
   "metadata": {},
   "source": [
    "In this first practical session, you will use the `opencv` library to handle input and output and some operations that can be applied to an image, such as taking a photo of yourself and display it in another colorspace."
   ]
  },
  {
   "cell_type": "code",
   "execution_count": 1,
   "metadata": {},
   "outputs": [],
   "source": [
    "%matplotlib inline"
   ]
  },
  {
   "cell_type": "code",
   "execution_count": 2,
   "metadata": {},
   "outputs": [],
   "source": [
    "import cv2\n",
    "import numpy as np\n",
    "import matplotlib.pyplot as plt\n",
    "from PIL import ImageOps, ImageEnhance, Image\n",
    "from ipywidgets import interact\n",
    "import os\n",
    "\n",
    "plt.rcParams['figure.figsize'] = [12, 8]"
   ]
  },
  {
   "cell_type": "markdown",
   "metadata": {},
   "source": [
    "#### Step 1:  take a photo with your webcam\n",
    "We create an object to access the webcam and we take a photo.  \n",
    "What is the format use to represent the red, blue and green channels by `opencv`."
   ]
  },
  {
   "cell_type": "code",
   "execution_count": 3,
   "metadata": {},
   "outputs": [
    {
     "ename": "error",
     "evalue": "OpenCV(4.1.1) /home/nvidia/host/build_opencv/nv_opencv/modules/highgui/src/window.cpp:352: error: (-215:Assertion failed) size.width>0 && size.height>0 in function 'imshow'\n",
     "output_type": "error",
     "traceback": [
      "\u001b[0;31m---------------------------------------------------------------------------\u001b[0m",
      "\u001b[0;31merror\u001b[0m                                     Traceback (most recent call last)",
      "\u001b[0;32m<ipython-input-3-90dfc7b8ae83>\u001b[0m in \u001b[0;36m<module>\u001b[0;34m\u001b[0m\n\u001b[1;32m     14\u001b[0m \u001b[0mvid\u001b[0m\u001b[0;34m.\u001b[0m\u001b[0mrelease\u001b[0m\u001b[0;34m(\u001b[0m\u001b[0;34m)\u001b[0m\u001b[0;34m\u001b[0m\u001b[0;34m\u001b[0m\u001b[0m\n\u001b[1;32m     15\u001b[0m \u001b[0;34m\u001b[0m\u001b[0m\n\u001b[0;32m---> 16\u001b[0;31m \u001b[0mcv2\u001b[0m\u001b[0;34m.\u001b[0m\u001b[0mimshow\u001b[0m\u001b[0;34m(\u001b[0m\u001b[0;34m'frame'\u001b[0m\u001b[0;34m,\u001b[0m \u001b[0mframe\u001b[0m\u001b[0;34m)\u001b[0m\u001b[0;34m\u001b[0m\u001b[0;34m\u001b[0m\u001b[0m\n\u001b[0m\u001b[1;32m     17\u001b[0m \u001b[0mcv2\u001b[0m\u001b[0;34m.\u001b[0m\u001b[0mwaitKey\u001b[0m\u001b[0;34m(\u001b[0m\u001b[0;36m0\u001b[0m\u001b[0;34m)\u001b[0m\u001b[0;34m\u001b[0m\u001b[0;34m\u001b[0m\u001b[0m\n\u001b[1;32m     18\u001b[0m \u001b[0mcv2\u001b[0m\u001b[0;34m.\u001b[0m\u001b[0mdestroyAllWindows\u001b[0m\u001b[0;34m(\u001b[0m\u001b[0;34m)\u001b[0m\u001b[0;34m\u001b[0m\u001b[0;34m\u001b[0m\u001b[0m\n",
      "\u001b[0;31merror\u001b[0m: OpenCV(4.1.1) /home/nvidia/host/build_opencv/nv_opencv/modules/highgui/src/window.cpp:352: error: (-215:Assertion failed) size.width>0 && size.height>0 in function 'imshow'\n"
     ]
    }
   ],
   "source": [
    "# Create the object to use the webcam\n",
    "gst_str = \"nvarguscamerasrc ! video/x-raw(memory:NVMM),\" \\\n",
    "            \"width=(int)1280, height=(int)720, format=(string)NV12, \" \\\n",
    "            \"framerate=(fraction)25/1 ! nvvidconv ! video/x-raw, \" \\\n",
    "            \"width=(int)1280, height=(int)720, format=(string)BGRx ! \" \\\n",
    "            \"videoconvert ! video/x-raw, format=(string)BGR !\" \\\n",
    "            \"appsink\"\n",
    "vid = cv2.VideoCapture(gst_str, cv2.CAP_GSTREAMER)\n",
    "\n",
    "# Read a frame from your webcam\n",
    "rlt_frame, frame = vid.read()\n",
    "\n",
    "# Close the webcam\n",
    "vid.release()\n",
    "\n",
    "cv2.imshow('frame', frame)\n",
    "cv2.waitKey(0)\n",
    "cv2.destroyAllWindows()\n",
    "\n",
    "# Save the photo\n",
    "cv2.imwrite(\"/home/nvidia/Documents/elen0016-computer-vision-tutorial/notebooks/tutorial1/test.jpg\", frame)"
   ]
  },
  {
   "cell_type": "markdown",
   "metadata": {},
   "source": [
    "Do we need to change it to display the image with `matplotlib`?"
   ]
  },
  {
   "cell_type": "code",
   "execution_count": null,
   "metadata": {},
   "outputs": [],
   "source": [
    "# Convertion from BGR to RGB\n",
    "rgb_frame = cv2.cvtColor(frame, cv2.COLOR_BGR2RGB)\n",
    "\n",
    "# Display the photo\n",
    "plt.imshow(rgb_frame)\n",
    "plt.show()"
   ]
  },
  {
   "cell_type": "markdown",
   "metadata": {},
   "source": [
    "You can continuously read from the webcam to create a video stream."
   ]
  },
  {
   "cell_type": "code",
   "execution_count": null,
   "metadata": {},
   "outputs": [],
   "source": [
    "gst_str = \"nvarguscamerasrc ! video/x-raw(memory:NVMM),\" \\\n",
    "            \"width=(int)1280, height=(int)720, format=(string)NV12, \" \\\n",
    "            \"framerate=(fraction)25/1 ! nvvidconv ! video/x-raw, \" \\\n",
    "            \"width=(int)1280, height=(int)720, format=(string)BGRx ! \" \\\n",
    "            \"videoconvert ! video/x-raw, format=(string)BGR !\" \\\n",
    "            \"appsink\"\n",
    "vid = cv2.VideoCapture(gst_str, cv2.CAP_GSTREAMER)\n",
    "\n",
    "win_name = 'Camera Preview'\n",
    "cv2.namedWindow(win_name, cv2.WINDOW_NORMAL)\n",
    "\n",
    "while cv2.waitKey(1) != 27: # Escape\n",
    "    has_frame, frame = vid.read()\n",
    "    if not has_frame:\n",
    "        break\n",
    "    cv2.imshow(win_name, frame)\n",
    "\n",
    "cv2.destroyAllWindows()"
   ]
  },
  {
   "cell_type": "markdown",
   "metadata": {},
   "source": [
    "#### Step 2: change of colorspace\n",
    "Convertion of the photo in another colorspace, for example the HSV one or grayscale one."
   ]
  },
  {
   "cell_type": "code",
   "execution_count": null,
   "metadata": {},
   "outputs": [],
   "source": [
    "# Change of colorspace\n",
    "rgb_frame = cv2.cvtColor(frame, cv2.COLOR_BGR2RGB)\n",
    "hsv_frame = cv2.cvtColor(frame, cv2.COLOR_BGR2HSV)\n",
    "gray_frame = cv2.cvtColor(frame, cv2.COLOR_BGR2GRAY)\n",
    "\n",
    "# Display the result\n",
    "plt.subplot(1, 3, 1).set_title('Original image')\n",
    "plt.imshow(rgb_frame)\n",
    "plt.xticks([]);plt.yticks([])\n",
    "plt.subplot(1, 3, 2).set_title('HSV image')\n",
    "plt.imshow(hsv_frame)\n",
    "plt.xticks([]);plt.yticks([])\n",
    "plt.subplot(1, 3, 3).set_title('Grayscale image')\n",
    "plt.imshow(gray_frame, cmap='gray')\n",
    "plt.xticks([]);plt.yticks([])\n",
    "plt.show()"
   ]
  },
  {
   "cell_type": "markdown",
   "metadata": {},
   "source": [
    "#### Step 3: apply some transformations on the image\n",
    "We can also change the properties of an image, such as its contrast, brightness, saturation, ...  \n",
    "The library `PIL` is well suited for those operations. Can you apply those transformations on an `opencv` object (array)? What kind of object do you have to use?"
   ]
  },
  {
   "cell_type": "code",
   "execution_count": null,
   "metadata": {},
   "outputs": [],
   "source": [
    "# Convert the RGB image to a PIL object\n",
    "pil_image=Image.fromarray(rgb_frame)\n",
    "\n",
    "# Change the contrast of the image\n",
    "def contrast(factor):\n",
    "    enhancer = ImageEnhance.Contrast(pil_image)\n",
    "    im_output = enhancer.enhance(factor)"
   ]
  },
  {
   "cell_type": "code",
   "execution_count": null,
   "metadata": {},
   "outputs": [],
   "source": [
    "interact(contrast, factor=(0., 2.))"
   ]
  },
  {
   "cell_type": "markdown",
   "metadata": {},
   "source": [
    "#### Step 6: segmentation of a color\n",
    "Segmentation is an useful tool in computer vision. It can be used to extract pixels of the same color."
   ]
  },
  {
   "cell_type": "code",
   "execution_count": null,
   "metadata": {},
   "outputs": [],
   "source": [
    "# Load the image\n",
    "squares = cv2.imread('squares.png')\n",
    "\n",
    "# Convert from BGR to RGB\n",
    "rgb_squares = cv2.cvtColor(squares, cv2.COLOR_BGR2RGB)\n",
    "\n",
    "# Display the image\n",
    "plt.imshow(rgb_squares)\n",
    "plt.show()"
   ]
  },
  {
   "cell_type": "code",
   "execution_count": null,
   "metadata": {},
   "outputs": [],
   "source": [
    "# Define the color code /!\\ BGR format\n",
    "black = np.array([0, 0, 0])\n",
    "blue = np.array([255, 0, 0])\n",
    "green = np.array([0, 255, 0])\n",
    "red = np.array([0, 0, 255])\n",
    "white = np.array([255, 255, 255])\n",
    "\n",
    "# Threshold the image to get only red color\n",
    "\n",
    "\n",
    "# Apply a `and` mask to keep only red pixels\n",
    "\n",
    "\n",
    "# Display the result\n",
    "rgb = cv2.cvtColor(res, cv2.COLOR_BGR2RGB)\n",
    "plt.imshow(rgb)\n",
    "plt.show()"
   ]
  },
  {
   "cell_type": "code",
   "execution_count": null,
   "metadata": {},
   "outputs": [],
   "source": []
  }
 ],
 "metadata": {
  "kernelspec": {
   "display_name": "Python 3",
   "language": "python",
   "name": "python3"
  },
  "language_info": {
   "codemirror_mode": {
    "name": "ipython",
    "version": 3
   },
   "file_extension": ".py",
   "mimetype": "text/x-python",
   "name": "python",
   "nbconvert_exporter": "python",
   "pygments_lexer": "ipython3",
   "version": "3.6.9"
  },
  "vscode": {
   "interpreter": {
    "hash": "31f2aee4e71d21fbe5cf8b01ff0e069b9275f58929596ceb00d14d90e3e16cd6"
   }
  }
 },
 "nbformat": 4,
 "nbformat_minor": 2
}
