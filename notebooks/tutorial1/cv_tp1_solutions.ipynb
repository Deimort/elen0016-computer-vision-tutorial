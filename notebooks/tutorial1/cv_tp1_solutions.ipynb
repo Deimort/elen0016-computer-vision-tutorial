{
 "cells": [
  {
   "cell_type": "markdown",
   "metadata": {},
   "source": [
    "# Computer Vision - Input/Output + Basic operations"
   ]
  },
  {
   "cell_type": "markdown",
   "metadata": {},
   "source": [
    "In this first practical session, you will use the `opencv` library to handle input and output and some operations that can be applied to an image, such as taking a photo of yourself and display it in another colorspace."
   ]
  },
  {
   "cell_type": "code",
   "execution_count": null,
   "metadata": {},
   "outputs": [],
   "source": [
    "%matplotlib inline"
   ]
  },
  {
   "cell_type": "code",
   "execution_count": null,
   "metadata": {},
   "outputs": [],
   "source": [
    "import cv2\n",
    "import numpy as np\n",
    "import matplotlib.pyplot as plt\n",
    "from PIL import ImageOps, ImageEnhance, Image\n",
    "from ipywidgets import interact\n",
    "import os\n",
    "\n",
    "plt.rcParams['figure.figsize'] = [12, 8]"
   ]
  },
  {
   "cell_type": "markdown",
   "metadata": {},
   "source": [
    "#### Step 1:  take a photo with your webcam\n",
    "We create an object to access the webcam and we take a photo.  \n",
    "What is the format use to represent the red, blue and green channels by `opencv`."
   ]
  },
  {
   "cell_type": "code",
   "execution_count": null,
   "metadata": {},
   "outputs": [],
   "source": [
    "# Create the object to use the webcam\n",
    "gst_str = \"nvarguscamerasrc ! video/x-raw(memory:NVMM),\" \\\n",
    "            \"width=(int)1280, height=(int)720, format=(string)NV12, \" \\\n",
    "            \"framerate=(fraction)25/1 ! nvvidconv ! video/x-raw, \" \\\n",
    "            \"width=(int)1280, height=(int)720, format=(string)BGRx ! \" \\\n",
    "            \"videoconvert ! video/x-raw, format=(string)BGR !\" \\\n",
    "            \"appsink\"\n",
    "vid = cv2.VideoCapture(gst_str, cv2.CAP_GSTREAMER)\n",
    "\n",
    "# Read a frame from your webcam\n",
    "for _ in range(10):\n",
    "    ret, frame = vid.read()\n",
    "\n",
    "# Close the webcam\n",
    "vid.release()\n",
    "\n",
    "cv2.imshow('frame', frame)\n",
    "cv2.waitKey(0)\n",
    "cv2.destroyAllWindows()\n",
    "\n",
    "# Save the photo\n",
    "cv2.imwrite('myPhoto.png', frame)"
   ]
  },
  {
   "cell_type": "markdown",
   "metadata": {},
   "source": [
    "Do we need to change it to display the image with `matplotlib`?"
   ]
  },
  {
   "cell_type": "code",
   "execution_count": null,
   "metadata": {},
   "outputs": [],
   "source": [
    "# Convertion from BGR to RGB\n",
    "rgb_frame = cv2.cvtColor(frame, cv2.COLOR_BGR2RGB)\n",
    "\n",
    "# Display the photo\n",
    "plt.imshow(rgb_frame)\n",
    "plt.show()"
   ]
  },
  {
   "cell_type": "markdown",
   "metadata": {},
   "source": [
    "You can continuously read from the webcam to create a video stream."
   ]
  },
  {
   "cell_type": "code",
   "execution_count": null,
   "metadata": {},
   "outputs": [],
   "source": [
    "gst_str = \"nvarguscamerasrc ! video/x-raw(memory:NVMM),\" \\\n",
    "            \"width=(int)1280, height=(int)720, format=(string)NV12, \" \\\n",
    "            \"framerate=(fraction)25/1 ! nvvidconv ! video/x-raw, \" \\\n",
    "            \"width=(int)1280, height=(int)720, format=(string)BGRx ! \" \\\n",
    "            \"videoconvert ! video/x-raw, format=(string)BGR !\" \\\n",
    "            \"appsink\"\n",
    "vid = cv2.VideoCapture(gst_str, cv2.CAP_GSTREAMER)\n",
    "\n",
    "while vid.isOpened():\n",
    "\n",
    "    ret, frame = vid.read()\n",
    "    \n",
    "    cv2.imshow('frame', cv2.flip(frame, 1))\n",
    "    if cv2.waitKey(1) & 0xFF == ord('q'):\n",
    "        vid.release()\n",
    "        break\n",
    "\n",
    "cv2.destroyAllWindows()"
   ]
  },
  {
   "cell_type": "markdown",
   "metadata": {},
   "source": [
    "#### Step 2: change of colorspace\n",
    "Convertion of the photo in another colorspace, for example the HSV one or grayscale one."
   ]
  },
  {
   "cell_type": "code",
   "execution_count": null,
   "metadata": {},
   "outputs": [],
   "source": [
    "# Change of colorspace\n",
    "hsv_frame = cv2.cvtColor(frame, cv2.COLOR_BGR2HSV)\n",
    "gray_frame = cv2.cvtColor(frame, cv2.COLOR_BGR2GRAY)\n",
    "\n",
    "# Display the result\n",
    "plt.subplot(1, 3, 1).set_title('Original image')\n",
    "plt.imshow(rgb_frame)\n",
    "plt.xticks([]);plt.yticks([])\n",
    "plt.subplot(1, 3, 2).set_title('HSV image')\n",
    "plt.imshow(hsv_frame)\n",
    "plt.xticks([]);plt.yticks([])\n",
    "plt.subplot(1, 3, 3).set_title('Grayscale image')\n",
    "plt.imshow(gray_frame, cmap='gray')\n",
    "plt.xticks([]);plt.yticks([])\n",
    "plt.show()"
   ]
  },
  {
   "cell_type": "markdown",
   "metadata": {},
   "source": [
    "#### Step 3: apply some transformations on the image\n",
    "We can also change the properties of an image, such as its contrast, brightness, saturation, ...  \n",
    "The library `PIL` is well suited for those operations. Can you apply those transformations on an `opencv` object (array)? What kind of object do you have to use?"
   ]
  },
  {
   "cell_type": "code",
   "execution_count": null,
   "metadata": {},
   "outputs": [],
   "source": [
    "# Convert the RGB image to a PIL object\n",
    "pil_frame = Image.fromarray(rgb_frame)\n",
    "\n",
    "# Change the contrast of the image\n",
    "def contrast(v):\n",
    "    contrast = ImageEnhance.Contrast(pil_frame).enhance(v)\n",
    "\n",
    "    contrast = np.array(contrast)\n",
    "    plt.imshow(contrast)\n",
    "    plt.show()"
   ]
  },
  {
   "cell_type": "code",
   "execution_count": null,
   "metadata": {},
   "outputs": [],
   "source": [
    "interact(contrast, v=(0., 2.))"
   ]
  },
  {
   "cell_type": "markdown",
   "metadata": {},
   "source": [
    "#### Step 6: segmentation of a color\n",
    "Segmentation is an useful tool in computer vision. It can be used to extract pixels of the same color."
   ]
  },
  {
   "cell_type": "code",
   "execution_count": null,
   "metadata": {},
   "outputs": [],
   "source": [
    "# Load the image\n",
    "squares = cv2.imread('squares.png')\n",
    "\n",
    "# Convert from BGR to RGB\n",
    "rgb_squares = cv2.cvtColor(squares, cv2.COLOR_BGR2RGB)\n",
    "\n",
    "# Display the image\n",
    "plt.imshow(rgb_squares)\n",
    "plt.show()"
   ]
  },
  {
   "cell_type": "code",
   "execution_count": null,
   "metadata": {},
   "outputs": [],
   "source": [
    "# Define the color code /!\\ BGR format\n",
    "black = np.array([0, 0, 0])\n",
    "blue = np.array([255, 0, 0])\n",
    "green = np.array([0, 255, 0])\n",
    "red = np.array([0, 0, 255])\n",
    "white = np.array([255, 255, 255])\n",
    "\n",
    "# Threshold the image to get only red color\n",
    "mask = cv2.inRange(squares, black, blue)\n",
    "\n",
    "# Apply a `and` mask to keep only red pixels\n",
    "res = cv2.bitwise_and(squares, squares, mask=mask)\n",
    "\n",
    "# Display the result\n",
    "rgb = cv2.cvtColor(res, cv2.COLOR_BGR2RGB)\n",
    "plt.imshow(rgb)\n",
    "plt.show()"
   ]
  },
  {
   "cell_type": "code",
   "execution_count": null,
   "metadata": {},
   "outputs": [],
   "source": []
  }
 ],
 "metadata": {
  "kernelspec": {
   "display_name": "Python 3",
   "language": "python",
   "name": "python3"
  },
  "language_info": {
   "codemirror_mode": {
    "name": "ipython",
    "version": 3
   },
   "file_extension": ".py",
   "mimetype": "text/x-python",
   "name": "python",
   "nbconvert_exporter": "python",
   "pygments_lexer": "ipython3",
   "version": "3.6.9"
  }
 },
 "nbformat": 4,
 "nbformat_minor": 2
}
